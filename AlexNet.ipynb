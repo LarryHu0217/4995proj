{
 "cells": [
  {
   "cell_type": "code",
   "execution_count": 1,
   "id": "f27a1a0d",
   "metadata": {},
   "outputs": [
    {
     "name": "stderr",
     "output_type": "stream",
     "text": [
      "/Users/tan/opt/anaconda3/envs/pytorch/lib/python3.9/site-packages/tqdm/auto.py:22: TqdmWarning: IProgress not found. Please update jupyter and ipywidgets. See https://ipywidgets.readthedocs.io/en/stable/user_install.html\n",
      "  from .autonotebook import tqdm as notebook_tqdm\n"
     ]
    }
   ],
   "source": [
    "import numpy as np\n",
    "import torch    \n",
    "import torch.nn as nn\n",
    "import torchvision\n",
    "from torchvision import datasets, models, transforms\n",
    "from torch.autograd import Variable\n",
    "import torch.nn.functional as F\n",
    "import torch.optim as optim\n",
    "import matplotlib.pyplot as plt"
   ]
  },
  {
   "cell_type": "code",
   "execution_count": 2,
   "id": "8c3bf659",
   "metadata": {},
   "outputs": [],
   "source": [
    "train_dir = r'./DATASET/TRAIN'\n",
    "test_dir = r'./DATASET/TEST'\n",
    "\n",
    "classes = ['O', 'R']"
   ]
  },
  {
   "cell_type": "code",
   "execution_count": 3,
   "id": "a2fe37d4",
   "metadata": {},
   "outputs": [],
   "source": [
    "# parameters\n",
    "NUM_EPOCH = 3\n",
    "LEARNING_RATE = 0.001"
   ]
  },
  {
   "cell_type": "code",
   "execution_count": 4,
   "id": "d6d03978",
   "metadata": {},
   "outputs": [
    {
     "name": "stdout",
     "output_type": "stream",
     "text": [
      "Number of train images:  22564\n",
      "Number of test images:  2513\n"
     ]
    }
   ],
   "source": [
    "\n",
    "transform = transforms.Compose([\n",
    "    transforms.Resize(size=(224, 224)),\n",
    "    transforms.RandomResizedCrop(224),\n",
    "    transforms.RandomHorizontalFlip(),\n",
    "    transforms.ToTensor()\n",
    "])\n",
    "\n",
    "train_data = datasets.ImageFolder(train_dir, transform=transform)\n",
    "test_data = datasets.ImageFolder(test_dir, transform=transform)\n",
    "\n",
    "#now check if they've loaded correctly\n",
    "print(\"Number of train images: \", (len(train_data)))\n",
    "print(\"Number of test images: \", len(test_data))"
   ]
  },
  {
   "cell_type": "code",
   "execution_count": 5,
   "id": "b1f8031c",
   "metadata": {},
   "outputs": [],
   "source": [
    "orig_n = len(train_data)  # total number of examples\n",
    "n_test = int(0.1 * orig_n)  # take ~10% for val\n",
    "val_set = torch.utils.data.Subset(train_data, range(n_test))  # take first 10%\n",
    "train_set = torch.utils.data.Subset(train_data, range(n_test, orig_n))  # take the rest   "
   ]
  },
  {
   "cell_type": "code",
   "execution_count": 6,
   "id": "62ee0e2a",
   "metadata": {},
   "outputs": [],
   "source": [
    "#prepare data loaders\n",
    "batch_size = 256\n",
    "\n",
    "train_loader = torch.utils.data.DataLoader(train_data, batch_size=batch_size, shuffle=True)\n",
    "val_loader = torch.utils.data.DataLoader(val_set, batch_size=batch_size, shuffle=True)\n",
    "test_loader = torch.utils.data.DataLoader(test_data, batch_size=batch_size, shuffle=True)"
   ]
  },
  {
   "cell_type": "code",
   "execution_count": 7,
   "id": "add8727e",
   "metadata": {},
   "outputs": [],
   "source": [
    "from torchvision.models import alexnet, AlexNet_Weights"
   ]
  },
  {
   "cell_type": "code",
   "execution_count": 8,
   "id": "cfbc49bb",
   "metadata": {
    "id": "4U1bm0XZq6D0"
   },
   "outputs": [
    {
     "data": {
      "text/plain": [
       "AlexNet(\n",
       "  (features): Sequential(\n",
       "    (0): Conv2d(3, 64, kernel_size=(11, 11), stride=(4, 4), padding=(2, 2))\n",
       "    (1): ReLU(inplace=True)\n",
       "    (2): MaxPool2d(kernel_size=3, stride=2, padding=0, dilation=1, ceil_mode=False)\n",
       "    (3): Conv2d(64, 192, kernel_size=(5, 5), stride=(1, 1), padding=(2, 2))\n",
       "    (4): ReLU(inplace=True)\n",
       "    (5): MaxPool2d(kernel_size=3, stride=2, padding=0, dilation=1, ceil_mode=False)\n",
       "    (6): Conv2d(192, 384, kernel_size=(3, 3), stride=(1, 1), padding=(1, 1))\n",
       "    (7): ReLU(inplace=True)\n",
       "    (8): Conv2d(384, 256, kernel_size=(3, 3), stride=(1, 1), padding=(1, 1))\n",
       "    (9): ReLU(inplace=True)\n",
       "    (10): Conv2d(256, 256, kernel_size=(3, 3), stride=(1, 1), padding=(1, 1))\n",
       "    (11): ReLU(inplace=True)\n",
       "    (12): MaxPool2d(kernel_size=3, stride=2, padding=0, dilation=1, ceil_mode=False)\n",
       "  )\n",
       "  (avgpool): AdaptiveAvgPool2d(output_size=(6, 6))\n",
       "  (classifier): Sequential(\n",
       "    (0): Dropout(p=0.5, inplace=False)\n",
       "    (1): Linear(in_features=9216, out_features=4096, bias=True)\n",
       "    (2): ReLU(inplace=True)\n",
       "    (3): Dropout(p=0.5, inplace=False)\n",
       "    (4): Linear(in_features=4096, out_features=4096, bias=True)\n",
       "    (5): ReLU(inplace=True)\n",
       "    (6): Linear(in_features=4096, out_features=2, bias=True)\n",
       "  )\n",
       ")"
      ]
     },
     "execution_count": 8,
     "metadata": {},
     "output_type": "execute_result"
    }
   ],
   "source": [
    "model = alexnet(weights=AlexNet_Weights.DEFAULT)\n",
    "num_features = model.classifier[6].in_features\n",
    "model.classifier[6] = nn.Linear(num_features, 2)\n",
    "\n",
    "model"
   ]
  },
  {
   "cell_type": "code",
   "execution_count": 9,
   "id": "5431fc72",
   "metadata": {},
   "outputs": [],
   "source": [
    "criterion = nn.CrossEntropyLoss()\n",
    "optimizer = torch.optim.Adam(model.parameters(), lr=0.001)\n",
    "num_epochs = 2"
   ]
  },
  {
   "cell_type": "code",
   "execution_count": 28,
   "id": "b49317ad",
   "metadata": {},
   "outputs": [],
   "source": [
    "def evaluate(model, data_loader, criterion, test=False):\n",
    "    model.eval()\n",
    "    test_loss = 0.0\n",
    "    class_correct = list(0. for i in range(len(classes)))\n",
    "    class_total = list(0. for i in range(len(classes)))\n",
    "    for images, labels in data_loader:\n",
    "        outputs = model(images)\n",
    "        loss = criterion(outputs.float(), labels.float())\n",
    "        test_loss += loss.item() * images.size(0)\n",
    "        _, preds = torch.max(outputs, 1)\n",
    "        correct_tensor = preds.eq(labels.data.view_as(preds))\n",
    "        correct = np.squeeze(correct_tensor.numpy())\n",
    "        \n",
    "        for i in range(len(labels.data)):\n",
    "            label = labels.data[i]\n",
    "            class_correct[label] += correct[i].item()\n",
    "            class_total[label] += 1\n",
    "\n",
    "            \n",
    "    test_loss = test_loss/len(test_loader.dataset)\n",
    "    accuracy = np.sum(class_correct) / np.sum(class_total)\n",
    "    \n",
    "    if test:\n",
    "        print('Test Loss: {:.6f}\\n'.format(test_loss))\n",
    "\n",
    "        for i in range(len(classes)):\n",
    "            if class_total[i] > 0:\n",
    "                print('Test Accuracy of %5s: %2d%% (%2d/%2d)' % (\n",
    "                    classes[i], 100 * class_correct[i] / class_total[i],\n",
    "                    np.sum(class_correct[i]), np.sum(class_total[i])))\n",
    "            else:\n",
    "                print('Test Accuracy of %5s: N/A (no training examples)' % (classes[i]))\n",
    "    \n",
    "\n",
    "        print('\\nTest Accuracy (Overall): %2d%% (%2d/%2d)' % (\n",
    "            100. * accuracy, np.sum(class_correct), np.sum(class_total)))\n",
    "    \n",
    "    return {'loss': test_loss, 'accuracy': accuracy}"
   ]
  },
  {
   "cell_type": "code",
   "execution_count": 29,
   "id": "a276fc65",
   "metadata": {},
   "outputs": [],
   "source": [
    "# Training\n",
    "def train(num_epochs, model, train_loader, val_loader, optimizer, criterion, model_path):\n",
    "    best_loss = float('inf')\n",
    "    best_accuracy = float('-inf')\n",
    "    not_improved = 3\n",
    "    log = []\n",
    "    for epoch in range(num_epochs):\n",
    "        model.train()\n",
    "        for batch_idx, (images, labels) in enumerate(train_loader):\n",
    "            out = model(images)\n",
    "            loss = criterion(out.float(), labels.float())\n",
    "            optimizer.zero_grad()\n",
    "            loss.backward()\n",
    "            optimizer.step()\n",
    "            \n",
    "\n",
    "        model.eval()\n",
    "        result = evaluate(model, val_loader, criterion)\n",
    "        log.append(result)\n",
    "        current_accuracy = result['accuracy']\n",
    "        current_loss = result['loss']\n",
    "        print(f'epoch: {epoch+1}/{num_epochs}, accuracy: {float(current_accuracy)}, loss: {float(current_loss)}')\n",
    "\n",
    "        # early stopping\n",
    "        if current_accuracy > best_accuracy:\n",
    "            best_accuracy = current_accuracy\n",
    "            torch.save({\n",
    "                        'model_state_dict': model.state_dict(),\n",
    "                        'optimizer_state_dict': optimizer.state_dict(),\n",
    "                        }, model_path)"
   ]
  },
  {
   "cell_type": "code",
   "execution_count": 12,
   "id": "4ac846f1",
   "metadata": {},
   "outputs": [
    {
     "name": "stdout",
     "output_type": "stream",
     "text": [
      "epoch: 1/2, accuracy: 0.9547872340425532, loss: 0.21115679784547842\n",
      "epoch: 2/2, accuracy: 0.8528368794326241, loss: 0.3423722601487159\n"
     ]
    }
   ],
   "source": [
    "train(num_epochs, model, train_loader, val_loader, optimizer, criterion, 'alexnet_best_model.pth')"
   ]
  },
  {
   "cell_type": "code",
   "execution_count": 13,
   "id": "b78115d8",
   "metadata": {},
   "outputs": [
    {
     "name": "stdout",
     "output_type": "stream",
     "text": [
      "Test Loss: 0.351534\n",
      "\n",
      "Test Accuracy of     O: 92% (1295/1401)\n",
      "Test Accuracy of     R: 80% (892/1112)\n",
      "\n",
      "Test Accuracy (Overall): 87% (2187/2513)\n"
     ]
    },
    {
     "data": {
      "text/plain": [
       "{'loss': 0.3515337284371239, 'accuracy': 0.8702745722244329}"
      ]
     },
     "execution_count": 13,
     "metadata": {},
     "output_type": "execute_result"
    }
   ],
   "source": [
    "evaluate(model, test_loader, criterion, test=True)"
   ]
  },
  {
   "cell_type": "code",
   "execution_count": null,
   "id": "55925a31",
   "metadata": {},
   "outputs": [],
   "source": []
  },
  {
   "cell_type": "code",
   "execution_count": null,
   "id": "2c339a37",
   "metadata": {},
   "outputs": [],
   "source": []
  },
  {
   "cell_type": "code",
   "execution_count": 21,
   "id": "6c83b8a5",
   "metadata": {},
   "outputs": [
    {
     "data": {
      "text/plain": [
       "ModifiedAlexNet(\n",
       "  (net): AlexNet(\n",
       "    (features): Sequential(\n",
       "      (0): Conv2d(3, 64, kernel_size=(11, 11), stride=(4, 4), padding=(2, 2))\n",
       "      (1): ReLU(inplace=True)\n",
       "      (2): MaxPool2d(kernel_size=3, stride=2, padding=0, dilation=1, ceil_mode=False)\n",
       "      (3): Conv2d(64, 192, kernel_size=(5, 5), stride=(1, 1), padding=(2, 2))\n",
       "      (4): ReLU(inplace=True)\n",
       "      (5): MaxPool2d(kernel_size=3, stride=2, padding=0, dilation=1, ceil_mode=False)\n",
       "      (6): Conv2d(192, 384, kernel_size=(3, 3), stride=(1, 1), padding=(1, 1))\n",
       "      (7): ReLU(inplace=True)\n",
       "      (8): Conv2d(384, 256, kernel_size=(3, 3), stride=(1, 1), padding=(1, 1))\n",
       "      (9): ReLU(inplace=True)\n",
       "      (10): Conv2d(256, 256, kernel_size=(3, 3), stride=(1, 1), padding=(1, 1))\n",
       "      (11): ReLU(inplace=True)\n",
       "      (12): MaxPool2d(kernel_size=3, stride=2, padding=0, dilation=1, ceil_mode=False)\n",
       "    )\n",
       "    (avgpool): AdaptiveAvgPool2d(output_size=(6, 6))\n",
       "    (classifier): Sequential(\n",
       "      (0): Dropout(p=0.5, inplace=False)\n",
       "      (1): Linear(in_features=9216, out_features=4096, bias=True)\n",
       "      (2): ReLU(inplace=True)\n",
       "      (3): Dropout(p=0.5, inplace=False)\n",
       "      (4): Linear(in_features=4096, out_features=4096, bias=True)\n",
       "      (5): ReLU(inplace=True)\n",
       "      (6): Linear(in_features=4096, out_features=1, bias=True)\n",
       "    )\n",
       "  )\n",
       "  (sigmoid): Sigmoid()\n",
       ")"
      ]
     },
     "execution_count": 21,
     "metadata": {},
     "output_type": "execute_result"
    }
   ],
   "source": [
    "class ModifiedAlexNet(nn.Module):\n",
    "    def __init__(self):\n",
    "        super(ModifiedAlexNet, self).__init__()\n",
    "        self.net = alexnet(weights=AlexNet_Weights.DEFAULT)\n",
    "        self.net.classifier[6] = nn.Linear(self.net.classifier[6].in_features, 1)    # replace the last full-connected layer of resnet\n",
    "        self.sigmoid = nn.Sigmoid()           # use a sigmoid layer to map the logit to [0, 1]\n",
    "    \n",
    "    def forward(self, x):\n",
    "        return self.sigmoid(self.net(x)).view(-1)\n",
    "    \n",
    "model2 = ModifiedAlexNet()\n",
    "model2"
   ]
  },
  {
   "cell_type": "code",
   "execution_count": 22,
   "id": "a8662577",
   "metadata": {},
   "outputs": [],
   "source": [
    "criterion = nn.BCELoss()\n",
    "optimizer = torch.optim.Adam(model.parameters(), lr=0.001)\n",
    "num_epochs = 2"
   ]
  },
  {
   "cell_type": "code",
   "execution_count": 35,
   "id": "aff88f36",
   "metadata": {},
   "outputs": [],
   "source": [
    "def evaluate(model, data_loader, criterion, test=False):\n",
    "    model.eval()\n",
    "    test_loss = 0.0\n",
    "    class_correct = list(0. for i in range(len(classes)))\n",
    "    class_total = list(0. for i in range(len(classes)))\n",
    "    preds = []\n",
    "    trues = []\n",
    "    for images, labels in data_loader:\n",
    "        outputs = model(images)\n",
    "        loss = criterion(outputs.float(), labels.float())\n",
    "        test_loss += loss.item() * images.size(0)\n",
    "        pred = (outputs > 0.5).detach().numpy()   # pred <= 0.5 -> cat;  pred > 0.5 -> dog \n",
    "        preds.append(pred)\n",
    "        trues.append(labels.numpy())\n",
    "\n",
    "    preds = np.concatenate(preds, axis=0)\n",
    "    trues = np.concatenate(trues, axis=0)\n",
    "        \n",
    "    for i in range(len(trues)):\n",
    "        label = trues[i]\n",
    "        if preds[i] == trues[i]:\n",
    "            class_correct[label] += 1\n",
    "        class_total[label] += 1\n",
    "\n",
    "    test_loss = test_loss/len(test_loader.dataset)\n",
    "    accuracy = np.sum(class_correct) / np.sum(class_total)\n",
    "    \n",
    "    if test:\n",
    "        print('Test Loss: {:.6f}\\n'.format(test_loss))\n",
    "\n",
    "        for i in range(len(classes)):\n",
    "            if class_total[i] > 0:\n",
    "                print('Test Accuracy of %5s: %2d%% (%2d/%2d)' % (\n",
    "                    classes[i], 100 * class_correct[i] / class_total[i],\n",
    "                    np.sum(class_correct[i]), np.sum(class_total[i])))\n",
    "            else:\n",
    "                print('Test Accuracy of %5s: N/A (no training examples)' % (classes[i]))\n",
    "    \n",
    "\n",
    "        print('\\nTest Accuracy (Overall): %2d%% (%2d/%2d)' % (\n",
    "            100. * accuracy, np.sum(class_correct), np.sum(class_total)))\n",
    "    \n",
    "    return {'loss': test_loss, 'accuracy': accuracy}"
   ]
  },
  {
   "cell_type": "code",
   "execution_count": 36,
   "id": "22471057",
   "metadata": {},
   "outputs": [
    {
     "name": "stdout",
     "output_type": "stream",
     "text": [
      "epoch: 1/2, accuracy: 0.37854609929078015, loss: 0.6788936744777985\n",
      "epoch: 2/2, accuracy: 0.40115248226950356, loss: 0.6784693770706535\n"
     ]
    }
   ],
   "source": [
    "train(num_epochs, model2, train_loader, val_loader, optimizer, criterion, 'alexnet_best_model.pth')"
   ]
  }
 ],
 "metadata": {
  "kernelspec": {
   "display_name": "Python 3 (ipykernel)",
   "language": "python",
   "name": "python3"
  },
  "language_info": {
   "codemirror_mode": {
    "name": "ipython",
    "version": 3
   },
   "file_extension": ".py",
   "mimetype": "text/x-python",
   "name": "python",
   "nbconvert_exporter": "python",
   "pygments_lexer": "ipython3",
   "version": "3.9.15"
  }
 },
 "nbformat": 4,
 "nbformat_minor": 5
}
