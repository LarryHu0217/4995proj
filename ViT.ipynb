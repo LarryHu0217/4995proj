{
 "cells": [
  {
   "cell_type": "code",
   "execution_count": 1,
   "id": "fcb02b70",
   "metadata": {},
   "outputs": [],
   "source": [
    "import numpy as np\n",
    "import torch    \n",
    "import torch.nn as nn\n",
    "import torchvision\n",
    "from torchvision import datasets, models, transforms\n",
    "import torch.optim as optim\n",
    "import matplotlib.pyplot as plt"
   ]
  },
  {
   "cell_type": "code",
   "execution_count": 35,
   "id": "1bfe5b52",
   "metadata": {},
   "outputs": [],
   "source": [
    "from transformers import ViTFeatureExtractor, ViTForImageClassification\n",
    "from transformers import TrainingArguments, Trainer"
   ]
  },
  {
   "cell_type": "code",
   "execution_count": 2,
   "id": "9829f779",
   "metadata": {},
   "outputs": [],
   "source": [
    "train_dir = r'./DATASET/TRAIN'\n",
    "test_dir = r'./DATASET/TEST'\n",
    "\n",
    "classes = ['O', 'R']"
   ]
  },
  {
   "cell_type": "code",
   "execution_count": 30,
   "id": "7f2e5945",
   "metadata": {},
   "outputs": [
    {
     "name": "stdout",
     "output_type": "stream",
     "text": [
      "Number of train images:  22564\n",
      "Number of test images:  2513\n"
     ]
    }
   ],
   "source": [
    "feature_extractor = ViTFeatureExtractor.from_pretrained(\"google/vit-base-patch16-224-in21k\")\n",
    "\n",
    "normalize = transforms.Normalize(mean=feature_extractor.image_mean,\n",
    "                                 std=feature_extractor.image_std)\n",
    "\n",
    "transform = transforms.Compose([transforms.RandomResizedCrop(224),\n",
    "                               transforms.RandomHorizontalFlip(),\n",
    "                               transforms.ToTensor(),\n",
    "                               normalize])\n",
    "\n",
    "train_data = datasets.ImageFolder(train_dir, transform=transform)\n",
    "test_data = datasets.ImageFolder(test_dir, transform=transform)\n",
    "\n",
    "#now check if they've loaded correctly\n",
    "print(\"Number of train images: \", (len(train_data)))\n",
    "print(\"Number of test images: \", len(test_data))"
   ]
  },
  {
   "cell_type": "code",
   "execution_count": 42,
   "id": "b1f8031c",
   "metadata": {},
   "outputs": [],
   "source": [
    "orig_n = len(train_data)  # total number of examples\n",
    "n_test = int(0.1 * orig_n)  # take ~10% for val\n",
    "val_set = torch.utils.data.Subset(train_data, range(n_test))  # take first 10%\n",
    "train_set = torch.utils.data.Subset(train_data, range(n_test, orig_n))  # take the rest   "
   ]
  },
  {
   "cell_type": "code",
   "execution_count": 31,
   "id": "bf99ea61",
   "metadata": {},
   "outputs": [],
   "source": [
    "class ImageClassificationCollator:\n",
    "    def __init__(self, feature_extractor): \n",
    "        self.feature_extractor = feature_extractor\n",
    "    def __call__(self, batch):  \n",
    "        encodings = self.feature_extractor([x[0] for x in batch],\n",
    "          return_tensors='pt')   \n",
    "        encodings['labels'] = torch.tensor([x[1] for x in batch],    \n",
    "          dtype=torch.long)\n",
    "        return encodings"
   ]
  },
  {
   "cell_type": "code",
   "execution_count": 43,
   "id": "62ee0e2a",
   "metadata": {},
   "outputs": [],
   "source": [
    "#prepare data loaders\n",
    "batch_size = 20\n",
    "collator = ImageClassificationCollator(feature_extractor)\n",
    "\n",
    "train_loader = torch.utils.data.DataLoader(train_set, batch_size=batch_size, collate_fn=collator, shuffle=True)\n",
    "val_loader = torch.utils.data.DataLoader(val_set, batch_size=batch_size, collate_fn=collator, shuffle=True)\n",
    "test_loader = torch.utils.data.DataLoader(test_data, batch_size=batch_size, collate_fn=collator, shuffle=True)"
   ]
  },
  {
   "cell_type": "code",
   "execution_count": 33,
   "id": "7f07952a",
   "metadata": {},
   "outputs": [],
   "source": [
    "id2label = {id:label for id, label in enumerate(classes)}\n",
    "label2id = {label:id for id,label in id2label.items()}"
   ]
  },
  {
   "cell_type": "code",
   "execution_count": 34,
   "id": "75ea33b1",
   "metadata": {},
   "outputs": [
    {
     "name": "stderr",
     "output_type": "stream",
     "text": [
      "Some weights of the model checkpoint at google/vit-base-patch16-224-in21k were not used when initializing ViTForImageClassification: ['pooler.dense.bias', 'pooler.dense.weight']\n",
      "- This IS expected if you are initializing ViTForImageClassification from the checkpoint of a model trained on another task or with another architecture (e.g. initializing a BertForSequenceClassification model from a BertForPreTraining model).\n",
      "- This IS NOT expected if you are initializing ViTForImageClassification from the checkpoint of a model that you expect to be exactly identical (initializing a BertForSequenceClassification model from a BertForSequenceClassification model).\n",
      "Some weights of ViTForImageClassification were not initialized from the model checkpoint at google/vit-base-patch16-224-in21k and are newly initialized: ['classifier.weight', 'classifier.bias']\n",
      "You should probably TRAIN this model on a down-stream task to be able to use it for predictions and inference.\n"
     ]
    }
   ],
   "source": [
    "\n",
    "\n",
    "model = ViTForImageClassification.from_pretrained('google/vit-base-patch16-224-in21k',\n",
    "                                                  num_labels=2,\n",
    "                                                  id2label=id2label,\n",
    "                                                  label2id=label2id)"
   ]
  },
  {
   "cell_type": "code",
   "execution_count": 36,
   "id": "d18687d1",
   "metadata": {},
   "outputs": [],
   "source": [
    "metric_name = \"accuracy\"\n",
    "\n",
    "args = TrainingArguments(\n",
    "    f\"test-waste\",\n",
    "    save_strategy=\"epoch\",\n",
    "    evaluation_strategy=\"epoch\",\n",
    "    learning_rate=2e-5,\n",
    "    per_device_train_batch_size=10,\n",
    "    per_device_eval_batch_size=4,\n",
    "    num_train_epochs=3,\n",
    "    weight_decay=0.01,\n",
    "    load_best_model_at_end=True,\n",
    "    metric_for_best_model=metric_name,\n",
    "    logging_dir='logs',\n",
    "    remove_unused_columns=False,\n",
    ")"
   ]
  },
  {
   "cell_type": "code",
   "execution_count": 38,
   "id": "e4e76bbe",
   "metadata": {},
   "outputs": [
    {
     "name": "stderr",
     "output_type": "stream",
     "text": [
      "/var/folders/58/4cpr8fwd0m1ft5sl9t2c2_v40000gn/T/ipykernel_62793/1052707893.py:4: FutureWarning: load_metric is deprecated and will be removed in the next major version of datasets. Use 'evaluate.load' instead, from the new library 🤗 Evaluate: https://huggingface.co/docs/evaluate\n",
      "  metric = load_metric(\"accuracy\")\n"
     ]
    },
    {
     "data": {
      "application/vnd.jupyter.widget-view+json": {
       "model_id": "cc9db13a501d4a7d99ef05999a9a40bd",
       "version_major": 2,
       "version_minor": 0
      },
      "text/plain": [
       "Downloading builder script:   0%|          | 0.00/1.65k [00:00<?, ?B/s]"
      ]
     },
     "metadata": {},
     "output_type": "display_data"
    }
   ],
   "source": [
    "from datasets import load_metric\n",
    "import numpy as np\n",
    "\n",
    "metric = load_metric(\"accuracy\")\n",
    "\n",
    "def compute_metrics(eval_pred):\n",
    "    predictions, labels = eval_pred\n",
    "    predictions = np.argmax(predictions, axis=1)\n",
    "    return metric.compute(predictions=predictions, references=labels)"
   ]
  },
  {
   "cell_type": "code",
   "execution_count": 45,
   "id": "0d4bb89b",
   "metadata": {},
   "outputs": [],
   "source": [
    "trainer = Trainer(\n",
    "    model,\n",
    "    args,\n",
    "    train_dataset=train_set,\n",
    "    eval_dataset=val_set,\n",
    "    data_collator=collator,\n",
    "    compute_metrics=compute_metrics,\n",
    "    tokenizer=feature_extractor,\n",
    ")"
   ]
  },
  {
   "cell_type": "code",
   "execution_count": 47,
   "id": "f76ec9b0",
   "metadata": {},
   "outputs": [
    {
     "name": "stderr",
     "output_type": "stream",
     "text": [
      "/Users/tan/opt/anaconda3/lib/python3.9/site-packages/transformers/optimization.py:306: FutureWarning: This implementation of AdamW is deprecated and will be removed in a future version. Use the PyTorch implementation torch.optim.AdamW instead, or set `no_deprecation_warning=True` to disable this warning\n",
      "  warnings.warn(\n",
      "***** Running training *****\n",
      "  Num examples = 20308\n",
      "  Num Epochs = 3\n",
      "  Instantaneous batch size per device = 10\n",
      "  Total train batch size (w. parallel, distributed & accumulation) = 10\n",
      "  Gradient Accumulation steps = 1\n",
      "  Total optimization steps = 6093\n",
      "  Number of trainable parameters = 85800194\n"
     ]
    },
    {
     "data": {
      "text/html": [
       "\n",
       "    <div>\n",
       "      \n",
       "      <progress value='6093' max='6093' style='width:300px; height:20px; vertical-align: middle;'></progress>\n",
       "      [6093/6093 8:07:51, Epoch 3/3]\n",
       "    </div>\n",
       "    <table border=\"1\" class=\"dataframe\">\n",
       "  <thead>\n",
       " <tr style=\"text-align: left;\">\n",
       "      <th>Epoch</th>\n",
       "      <th>Training Loss</th>\n",
       "      <th>Validation Loss</th>\n",
       "      <th>Accuracy</th>\n",
       "    </tr>\n",
       "  </thead>\n",
       "  <tbody>\n",
       "    <tr>\n",
       "      <td>1</td>\n",
       "      <td>0.191200</td>\n",
       "      <td>0.087445</td>\n",
       "      <td>0.969415</td>\n",
       "    </tr>\n",
       "    <tr>\n",
       "      <td>2</td>\n",
       "      <td>0.153300</td>\n",
       "      <td>0.112211</td>\n",
       "      <td>0.960993</td>\n",
       "    </tr>\n",
       "    <tr>\n",
       "      <td>3</td>\n",
       "      <td>0.121600</td>\n",
       "      <td>0.121194</td>\n",
       "      <td>0.960550</td>\n",
       "    </tr>\n",
       "  </tbody>\n",
       "</table><p>"
      ],
      "text/plain": [
       "<IPython.core.display.HTML object>"
      ]
     },
     "metadata": {},
     "output_type": "display_data"
    },
    {
     "name": "stderr",
     "output_type": "stream",
     "text": [
      "***** Running Evaluation *****\n",
      "  Num examples = 2256\n",
      "  Batch size = 4\n",
      "Saving model checkpoint to test-waste/checkpoint-2031\n",
      "Configuration saved in test-waste/checkpoint-2031/config.json\n",
      "Model weights saved in test-waste/checkpoint-2031/pytorch_model.bin\n",
      "Feature extractor saved in test-waste/checkpoint-2031/preprocessor_config.json\n",
      "***** Running Evaluation *****\n",
      "  Num examples = 2256\n",
      "  Batch size = 4\n",
      "Saving model checkpoint to test-waste/checkpoint-4062\n",
      "Configuration saved in test-waste/checkpoint-4062/config.json\n",
      "Model weights saved in test-waste/checkpoint-4062/pytorch_model.bin\n",
      "Feature extractor saved in test-waste/checkpoint-4062/preprocessor_config.json\n",
      "***** Running Evaluation *****\n",
      "  Num examples = 2256\n",
      "  Batch size = 4\n",
      "Saving model checkpoint to test-waste/checkpoint-6093\n",
      "Configuration saved in test-waste/checkpoint-6093/config.json\n",
      "Model weights saved in test-waste/checkpoint-6093/pytorch_model.bin\n",
      "Feature extractor saved in test-waste/checkpoint-6093/preprocessor_config.json\n",
      "\n",
      "\n",
      "Training completed. Do not forget to share your model on huggingface.co/models =)\n",
      "\n",
      "\n",
      "Loading best model from test-waste/checkpoint-2031 (score: 0.9694148936170213).\n"
     ]
    },
    {
     "data": {
      "text/plain": [
       "TrainOutput(global_step=6093, training_loss=0.17826861496259677, metrics={'train_runtime': 29273.476, 'train_samples_per_second': 2.081, 'train_steps_per_second': 0.208, 'total_flos': 4.721121975279403e+18, 'train_loss': 0.17826861496259677, 'epoch': 3.0})"
      ]
     },
     "execution_count": 47,
     "metadata": {},
     "output_type": "execute_result"
    }
   ],
   "source": [
    "trainer.train()"
   ]
  },
  {
   "cell_type": "code",
   "execution_count": 49,
   "id": "be50350b",
   "metadata": {},
   "outputs": [
    {
     "name": "stderr",
     "output_type": "stream",
     "text": [
      "***** Running Prediction *****\n",
      "  Num examples = 2513\n",
      "  Batch size = 4\n"
     ]
    },
    {
     "data": {
      "text/html": [],
      "text/plain": [
       "<IPython.core.display.HTML object>"
      ]
     },
     "metadata": {},
     "output_type": "display_data"
    },
    {
     "name": "stdout",
     "output_type": "stream",
     "text": [
      "{'test_loss': 0.30848002433776855, 'test_accuracy': 0.9052924791086351, 'test_runtime': 188.9854, 'test_samples_per_second': 13.297, 'test_steps_per_second': 3.328}\n"
     ]
    }
   ],
   "source": [
    "outputs = trainer.predict(test_data)\n",
    "print(outputs.metrics)"
   ]
  },
  {
   "cell_type": "code",
   "execution_count": null,
   "id": "0d0b410e",
   "metadata": {},
   "outputs": [],
   "source": []
  },
  {
   "cell_type": "markdown",
   "id": "f41ad5ae",
   "metadata": {},
   "source": [
    "Reference:\n",
    "- https://github.com/NielsRogge/Transformers-Tutorials/blob/master/VisionTransformer/Fine_tuning_the_Vision_Transformer_on_CIFAR_10_with_the_%F0%9F%A4%97_Trainer.ipynb\n",
    "- https://medium.com/@kenjiteezhen/image-classification-using-huggingface-vit-261888bfa19f"
   ]
  }
 ],
 "metadata": {
  "kernelspec": {
   "display_name": "Python 3 (ipykernel)",
   "language": "python",
   "name": "python3"
  },
  "language_info": {
   "codemirror_mode": {
    "name": "ipython",
    "version": 3
   },
   "file_extension": ".py",
   "mimetype": "text/x-python",
   "name": "python",
   "nbconvert_exporter": "python",
   "pygments_lexer": "ipython3",
   "version": "3.9.15"
  }
 },
 "nbformat": 4,
 "nbformat_minor": 5
}
